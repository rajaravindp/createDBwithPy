{
 "cells": [
  {
   "cell_type": "code",
   "execution_count": 1,
   "id": "8286748a",
   "metadata": {},
   "outputs": [],
   "source": [
    "# Importing relevant modules\n",
    "import psycopg2\n",
    "import pandas as pd"
   ]
  },
  {
   "cell_type": "code",
   "execution_count": 2,
   "id": "c30f47d3",
   "metadata": {},
   "outputs": [],
   "source": [
    "# Function to create DB\n",
    "def create_database():\n",
    "    # Connect to default postgres DB\n",
    "    conn = psycopg2.connect('host=127.0.0.1 dbname=postgres user=postgres password=1')\n",
    "    conn.set_session(autocommit=True)\n",
    "    cur = conn.cursor()\n",
    "    \n",
    "    # Create myFutbaallDB with UTF8 encoding\n",
    "    cur.execute('DROP DATABASE IF EXISTS myFutbaallDB')\n",
    "    cur.execute('CREATE DATABASE football')\n",
    "    \n",
    "    # Sever connection to default DB\n",
    "    conn.close()\n",
    "    \n",
    "    # Connect to myFutbaallDB DB\n",
    "    conn = psycopg2.connect('host=127.0.0.1 dbname=football user=postgres password=1')\n",
    "    cur = conn.cursor()\n",
    "    \n",
    "    # Return cursor and connection\n",
    "    return cur, conn"
   ]
  },
  {
   "cell_type": "code",
   "execution_count": 3,
   "id": "45d34530",
   "metadata": {},
   "outputs": [],
   "source": [
    "# Reading csv files in\n",
    "apps = pd.read_csv('appearances.csv')\n",
    "player_val = pd.read_csv('player_valuations.csv')\n",
    "players = pd.read_csv('players.csv')"
   ]
  },
  {
   "cell_type": "code",
   "execution_count": 5,
   "id": "a7c8dde3",
   "metadata": {},
   "outputs": [],
   "source": [
    "# Selecting relevant cols from apps df\n",
    "apps = apps[['player_id', 'player_name', 'player_current_club_id', 'goals']]"
   ]
  },
  {
   "cell_type": "code",
   "execution_count": 4,
   "id": "99f2e18e",
   "metadata": {},
   "outputs": [],
   "source": [
    "# Selecting relevant cols from player_val df\n",
    "player_val = player_val[['player_id', 'market_value_in_eur', \n",
    "                       'current_club_id']]"
   ]
  },
  {
   "cell_type": "code",
   "execution_count": 6,
   "id": "e24150a0",
   "metadata": {},
   "outputs": [],
   "source": [
    "players = players[['player_id', 'name', 'current_club_id', 'position']]"
   ]
  },
  {
   "cell_type": "code",
   "execution_count": 8,
   "id": "ac315de8",
   "metadata": {},
   "outputs": [],
   "source": [
    "# Establishing a database connection and creating a cursor object\n",
    "cur, conn = create_database()"
   ]
  },
  {
   "cell_type": "code",
   "execution_count": 9,
   "id": "e17b8483",
   "metadata": {},
   "outputs": [],
   "source": [
    "# Create apps table\n",
    "apps_create = (\"CREATE TABLE IF NOT EXISTS apps(player_id varchar, player_name varchar, player_current_club_id numeric, goals numeric)\")"
   ]
  },
  {
   "cell_type": "code",
   "execution_count": 10,
   "id": "0eee7f28",
   "metadata": {},
   "outputs": [],
   "source": [
    "# Execute the SQL statement defined in 'apps_create' to create the 'apps' table\n",
    "cur.execute(apps_create)\n",
    "# Commit changes to DB\n",
    "conn.commit()"
   ]
  },
  {
   "cell_type": "code",
   "execution_count": 16,
   "id": "5cece7d4",
   "metadata": {},
   "outputs": [],
   "source": [
    "# Prepare SQL insert into apps table\n",
    "apps_insert = (\"INSERT INTO apps( \\\n",
    "              player_id, player_name, player_current_club_id, goals \\\n",
    "              ) VALUES (%s, %s, %s, %s)\")"
   ]
  },
  {
   "cell_type": "code",
   "execution_count": 17,
   "id": "78a65217",
   "metadata": {},
   "outputs": [],
   "source": [
    "# Insert rows from 'apps' DataFrame using prepared SQL statement\n",
    "for i, rows in apps.iterrows():\n",
    "    cur.execute(apps_insert, list(rows))"
   ]
  },
  {
   "cell_type": "code",
   "execution_count": 18,
   "id": "77e2eae3",
   "metadata": {},
   "outputs": [],
   "source": [
    "# Commit changes to DB\n",
    "conn.commit()"
   ]
  },
  {
   "cell_type": "code",
   "execution_count": 19,
   "id": "12a06902",
   "metadata": {},
   "outputs": [],
   "source": [
    "# Create player_val table\n",
    "player_val_create = (\"CREATE TABLE IF NOT EXISTS player_val( \\\n",
    "                     player_id numeric, market_value_in_eur numeric, current_club_id numeric)\")"
   ]
  },
  {
   "cell_type": "code",
   "execution_count": 20,
   "id": "21cd652b",
   "metadata": {},
   "outputs": [],
   "source": [
    "# Execute the SQL statement defined in 'player_val_create' to create the 'player_val' table \n",
    "cur.execute(player_val_create)\n",
    "# Commit changes to DB\n",
    "conn.commit()"
   ]
  },
  {
   "cell_type": "code",
   "execution_count": 21,
   "id": "8ab910ac",
   "metadata": {},
   "outputs": [],
   "source": [
    "# Prepare SQL insert into player_val table\n",
    "player_val_insert = (\"INSERT INTO player_val( \\\n",
    "player_id, market_value_in_eur, current_club_id \\\n",
    "                    ) VALUES (%s, %s, %s)\")"
   ]
  },
  {
   "cell_type": "code",
   "execution_count": 22,
   "id": "ae5524b0",
   "metadata": {},
   "outputs": [],
   "source": [
    "# Insert rows from 'player_val' DataFrame using prepared SQL statement\n",
    "for i, rows in player_val.iterrows():\n",
    "    cur.execute(player_val_insert, list(rows))"
   ]
  },
  {
   "cell_type": "code",
   "execution_count": 23,
   "id": "87e58aad",
   "metadata": {},
   "outputs": [],
   "source": [
    "# Commit changes to DB\n",
    "conn.commit()"
   ]
  },
  {
   "cell_type": "code",
   "execution_count": 14,
   "id": "d4eb26c2",
   "metadata": {},
   "outputs": [],
   "source": [
    "players_create = (\"CREATE TABLE IF NOT EXISTS players( \\\n",
    "player_id numeric, name varchar, current_club_id numeric, position varchar \\\n",
    ")\")"
   ]
  },
  {
   "cell_type": "code",
   "execution_count": 15,
   "id": "8e24c704",
   "metadata": {},
   "outputs": [],
   "source": [
    "# Execute the SQL statement defined in 'player_val_create' to create the 'player_val' table \n",
    "cur.execute(players_create)\n",
    "# Commit changes to DB\n",
    "conn.commit()"
   ]
  },
  {
   "cell_type": "code",
   "execution_count": 25,
   "id": "32a9495a",
   "metadata": {},
   "outputs": [],
   "source": [
    "# Prepare SQL insert into players table\n",
    "players_insert = (\"INSERT INTO players( \\\n",
    "player_id, name, current_club_id, position \\\n",
    "                    ) VALUES (%s, %s, %s, %s)\")"
   ]
  },
  {
   "cell_type": "code",
   "execution_count": 26,
   "id": "796a2a60",
   "metadata": {},
   "outputs": [],
   "source": [
    "# Insert rows from 'players' DataFrame using prepared SQL statement\n",
    "for i, rows in players.iterrows():\n",
    "    cur.execute(players_insert, list(rows))"
   ]
  },
  {
   "cell_type": "code",
   "execution_count": 27,
   "id": "b4ffcd6f",
   "metadata": {},
   "outputs": [],
   "source": [
    "# Commit changes to DB\n",
    "conn.commit()"
   ]
  },
  {
   "cell_type": "code",
   "execution_count": null,
   "id": "70e5816f",
   "metadata": {},
   "outputs": [],
   "source": [
    "# Close connection\n",
    "conn.close()"
   ]
  }
 ],
 "metadata": {
  "kernelspec": {
   "display_name": "Python 3 (ipykernel)",
   "language": "python",
   "name": "python3"
  },
  "language_info": {
   "codemirror_mode": {
    "name": "ipython",
    "version": 3
   },
   "file_extension": ".py",
   "mimetype": "text/x-python",
   "name": "python",
   "nbconvert_exporter": "python",
   "pygments_lexer": "ipython3",
   "version": "3.9.13"
  }
 },
 "nbformat": 4,
 "nbformat_minor": 5
}
