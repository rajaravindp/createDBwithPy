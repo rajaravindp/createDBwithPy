{
 "cells": [
  {
   "cell_type": "code",
   "execution_count": 1,
   "id": "d8ce5f66",
   "metadata": {},
   "outputs": [],
   "source": [
    "# Importing relevant modules\n",
    "import psycopg2\n",
    "import pandas as pd"
   ]
  },
  {
   "cell_type": "code",
   "execution_count": 12,
   "id": "f8491e45",
   "metadata": {},
   "outputs": [],
   "source": [
    "# Function to create DB\n",
    "def create_database():\n",
    "    # Connect to default postgres DB\n",
    "    conn = psycopg2.connect('host=127.0.0.1 dbname=postgres user=postgres password=1')\n",
    "    conn.set_session(autocommit=True)\n",
    "    cur = conn.cursor()\n",
    "    \n",
    "    # Create myFutbaallDB with UTF8 encoding\n",
    "    cur.execute('DROP DATABASE IF EXISTS myFutbaallDB')\n",
    "    cur.execute('CREATE DATABASE football')\n",
    "    \n",
    "    # Sever connection to default DB\n",
    "    conn.close()\n",
    "    \n",
    "    # Connect to myFutbaallDB DB\n",
    "    conn = psycopg2.connect('host=127.0.0.1 dbname=football user=postgres password=1')\n",
    "    cur = conn.cursor()\n",
    "    \n",
    "    # Return cursor and connection\n",
    "    return cur, conn"
   ]
  },
  {
   "cell_type": "code",
   "execution_count": 26,
   "id": "7ba36cc3",
   "metadata": {},
   "outputs": [],
   "source": [
    "# Reading csv files in\n",
    "apps = pd.read_csv('appearances.csv')\n",
    "player_val = pd.read_csv('player_valuations.csv')"
   ]
  },
  {
   "cell_type": "code",
   "execution_count": 33,
   "id": "e97421a4",
   "metadata": {},
   "outputs": [],
   "source": [
    "# Selecting relevant cols from apps df\n",
    "apps = apps[['player_id', 'player_name', 'player_current_club_id', 'goals']]"
   ]
  },
  {
   "cell_type": "code",
   "execution_count": 34,
   "id": "05e01ac4",
   "metadata": {},
   "outputs": [],
   "source": [
    "# Selecting relevant cols from player_val df\n",
    "player_val = player_val[['player_id', 'market_value_in_eur', \n",
    "                       'current_club_id']]"
   ]
  },
  {
   "cell_type": "code",
   "execution_count": 37,
   "id": "0f0d7529",
   "metadata": {},
   "outputs": [],
   "source": [
    "# Establishing a database connection and creating a cursor object\n",
    "cur, conn = create_database()"
   ]
  },
  {
   "cell_type": "code",
   "execution_count": 87,
   "id": "3997c5d9",
   "metadata": {},
   "outputs": [],
   "source": [
    "# Create apps table\n",
    "apps_create = (\"CREATE TABLE IF NOT EXISTS apps(player_id varchar primary key, player_name varchar, player_current_club_id numeric, goals numeric)\")"
   ]
  },
  {
   "cell_type": "code",
   "execution_count": 89,
   "id": "8cfa5625",
   "metadata": {},
   "outputs": [],
   "source": [
    "# Execute the SQL statement defined in 'apps_create' to create the 'apps' table\n",
    "cur.execute(apps_create)\n",
    "# Commit changes to DB\n",
    "conn.commit()"
   ]
  },
  {
   "cell_type": "code",
   "execution_count": 51,
   "id": "7399a5d1",
   "metadata": {},
   "outputs": [],
   "source": [
    "# Prepare SQL insert into apps table\n",
    "apps_insert = (\"INSERT INTO apps( \\\n",
    "              player_id, player_name, player_current_club_id, goals \\\n",
    "              ) VALUES (%s, %s, %s, %s)\")"
   ]
  },
  {
   "cell_type": "code",
   "execution_count": 53,
   "id": "c7bea92e",
   "metadata": {},
   "outputs": [],
   "source": [
    "# Insert rows from 'apps' DataFrame using prepared SQL statement\n",
    "for i, rows in apps.iterrows():\n",
    "    cur.execute(apps_insert, list(rows))"
   ]
  },
  {
   "cell_type": "code",
   "execution_count": 54,
   "id": "8dc3e291",
   "metadata": {},
   "outputs": [],
   "source": [
    "# Commit changes to DB\n",
    "conn.commit()"
   ]
  },
  {
   "cell_type": "code",
   "execution_count": 45,
   "id": "1f4d1892",
   "metadata": {},
   "outputs": [],
   "source": [
    "# Create player_val table\n",
    "player_val_create = (\"CREATE TABLE IF NOT EXISTS player_val( \\\n",
    "                     player_id numeric, market_value_in_eur numeric, current_club_id numeric)\")"
   ]
  },
  {
   "cell_type": "code",
   "execution_count": 46,
   "id": "f08ea0a8",
   "metadata": {},
   "outputs": [],
   "source": [
    "# Execute the SQL statement defined in 'player_val_create' to create the 'player_val' table \n",
    "cur.execute(player_val_create)\n",
    "# Commit changes to DB\n",
    "conn.commit()"
   ]
  },
  {
   "cell_type": "code",
   "execution_count": 71,
   "id": "2cbc9f77",
   "metadata": {},
   "outputs": [],
   "source": [
    "# Prepare SQL insert into player_val table\n",
    "player_val_insert = (\"INSERT INTO player_val( \\\n",
    "player_id, market_value_in_eur, current_club_id \\\n",
    "                    ) VALUES (%s, %s, %s)\")"
   ]
  },
  {
   "cell_type": "code",
   "execution_count": 73,
   "id": "5c3fada7",
   "metadata": {},
   "outputs": [],
   "source": [
    "# Insert rows from 'player_val' DataFrame using prepared SQL statement\n",
    "for i, rows in player_val.iterrows():\n",
    "    cur.execute(player_val_insert, list(rows))"
   ]
  },
  {
   "cell_type": "code",
   "execution_count": 76,
   "id": "780087a8",
   "metadata": {},
   "outputs": [],
   "source": [
    "# Commit changes to DB\n",
    "conn.commit()"
   ]
  },
  {
   "cell_type": "code",
   "execution_count": 90,
   "id": "990a6d9b",
   "metadata": {},
   "outputs": [],
   "source": [
    "# Close connection\n",
    "conn.close()"
   ]
  }
 ],
 "metadata": {
  "kernelspec": {
   "display_name": "Python 3 (ipykernel)",
   "language": "python",
   "name": "python3"
  },
  "language_info": {
   "codemirror_mode": {
    "name": "ipython",
    "version": 3
   },
   "file_extension": ".py",
   "mimetype": "text/x-python",
   "name": "python",
   "nbconvert_exporter": "python",
   "pygments_lexer": "ipython3",
   "version": "3.9.13"
  }
 },
 "nbformat": 4,
 "nbformat_minor": 5
}
